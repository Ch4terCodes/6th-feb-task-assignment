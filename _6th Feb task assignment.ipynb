{
 "cells": [
  {
   "cell_type": "code",
   "execution_count": null,
   "id": "76ab9d5d-dce1-4ec5-b602-0b1d04727673",
   "metadata": {},
   "outputs": [],
   "source": [
    "#Q1. Create a function which will take a list as an argument and return the product of all the numbers after creating a flat list.\n",
    "#Use the below-given list as an argument for your function.\n",
    "#list1 = [1,2,3,4, [44,55,66, True], False, (34,56,78,89,34), {1,2,3,3,2,1}, {1:34, \"key2\": [55, 67, 78, 89], 4: (45,22, 61, 34)}, [56, 'data science'], 'Machine Learning']\n",
    "#Note: you must extract numeric keys and values of the dictionary also."
   ]
  },
  {
   "cell_type": "code",
   "execution_count": 1,
   "id": "2a70b588-8407-4715-b414-af54e8a06e87",
   "metadata": {},
   "outputs": [
    {
     "name": "stdout",
     "output_type": "stream",
     "text": [
      "689118639831180913138973540352000\n"
     ]
    }
   ],
   "source": [
    "def calculate_product(lst):\n",
    "    flat_list = []\n",
    "\n",
    "    def flatten(l):\n",
    "        for item in l:\n",
    "            if type(item) == int:\n",
    "                flat_list.append(item)\n",
    "            elif type(item) == float:\n",
    "                flat_list.append(item)\n",
    "            elif type(item) == tuple:\n",
    "                flatten(item)\n",
    "            elif type(item) == list:\n",
    "                flatten(item)\n",
    "            elif type(item) == dict:\n",
    "                for key, value in item.items():\n",
    "                    if type(key) in [int, float]:\n",
    "                        flat_list.append(key)\n",
    "                    if type(value) in [int, float]:\n",
    "                        flat_list.append(value)\n",
    "                    elif type(value) in [list, tuple]:\n",
    "                        flatten(value)\n",
    "\n",
    "    flatten(lst)\n",
    "    product = 1\n",
    "    for item in flat_list:\n",
    "        product *= item\n",
    "    return product\n",
    "\n",
    "list1 = [1,2,3,4, [44,55,66, True], False, (34,56,78,89,34), {1,2,3,3,2,1}, {1:34, \"key2\": [55, 67, 78, 89], 4: (45, 22, 61, 34)}, [56, 'data science'], 'Machine Learning']\n",
    "print(calculate_product(list1))\n"
   ]
  },
  {
   "cell_type": "code",
   "execution_count": null,
   "id": "a879a154-a70c-4d43-b0e2-5082f76d89c7",
   "metadata": {},
   "outputs": [],
   "source": [
    "#Q2. Write a python program for encrypting a message sent to you by your friend. The logic of encryption\n",
    "#should be such that, for a the output should be z. For b, the output should be y. For c, the output should\n",
    "#be x respectively. Also, the whitespace should be replaced with a dollar sign. Keep the punctuation\n",
    "#marks unchanged.\n",
    "#Input Sentence: I want to become a Data Scientist.Encrypt the above input sentence using the program you just created.\n",
    "#Note: Convert the given input sentence into lowercase before encrypting. The final output should belowercase."
   ]
  },
  {
   "cell_type": "code",
   "execution_count": null,
   "id": "72787da7-baac-4ee3-8248-412deb795cd0",
   "metadata": {},
   "outputs": [],
   "source": [
    "def encrypt_message(message):
    encrypted_message = ""
    for char in message:
        if char == ' ':
            encrypted_message += '$'
        elif char.isalpha():
            encrypted_message += chr(ord('z') - ord(char.lower()) + ord('a'))
        else:
            encrypted_message += char
    return encrypted_message

message = input("Enter a message to encrypt: ")
encrypted_message = encrypt_message(message)
print("Encrypted message: ", encrypted_message)
   ]
  }
 ],
 "metadata": {
  "kernelspec": {
   "display_name": "Python 3 (ipykernel)",
   "language": "python",
   "name": "python3"
  },
  "language_info": {
   "codemirror_mode": {
    "name": "ipython",
    "version": 3
   },
   "file_extension": ".py",
   "mimetype": "text/x-python",
   "name": "python",
   "nbconvert_exporter": "python",
   "pygments_lexer": "ipython3",
   "version": "3.10.8"
  }
 },
 "nbformat": 4,
 "nbformat_minor": 5
}
